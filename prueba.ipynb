{
 "cells": [
  {
   "cell_type": "code",
   "execution_count": 11,
   "metadata": {},
   "outputs": [
    {
     "name": "stdout",
     "output_type": "stream",
     "text": [
      "scrypt:32768:8:1$0KVeLHckUTZNPqsM$200988a017b5965902632f44b01c5458e18c9d5e10f149bb8de1a03df954cee3b958a2d67e5c6a538732870738214e24de47bcbf05f4f3db864e32d65725f8e6\n",
      "False\n"
     ]
    }
   ],
   "source": [
    "from werkzeug.security import generate_password_hash, check_password_hash\n",
    "\n",
    "\n",
    "\n",
    "password = 123456789\n",
    "hash_pas = generate_password_hash(str(password))\n",
    "print(hash_pas)\n",
    "\n",
    "validate = check_password_hash(hash_pas, str(12345678))\n",
    "print(validate)\n",
    "\n",
    "\n"
   ]
  },
  {
   "cell_type": "code",
   "execution_count": null,
   "metadata": {},
   "outputs": [],
   "source": []
  },
  {
   "cell_type": "code",
   "execution_count": null,
   "metadata": {},
   "outputs": [],
   "source": []
  }
 ],
 "metadata": {
  "kernelspec": {
   "display_name": "Python 3",
   "language": "python",
   "name": "python3"
  },
  "language_info": {
   "codemirror_mode": {
    "name": "ipython",
    "version": 3
   },
   "file_extension": ".py",
   "mimetype": "text/x-python",
   "name": "python",
   "nbconvert_exporter": "python",
   "pygments_lexer": "ipython3",
   "version": "3.12.0"
  }
 },
 "nbformat": 4,
 "nbformat_minor": 2
}
